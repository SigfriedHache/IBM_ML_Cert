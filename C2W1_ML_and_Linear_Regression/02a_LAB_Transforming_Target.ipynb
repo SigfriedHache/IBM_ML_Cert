{
 "cells": [
  {
   "cell_type": "markdown",
   "id": "0610500b-9567-4ddd-a28e-03645fe88d31",
   "metadata": {},
   "source": [
    "# Machine Learning Foundation\n",
    "\n",
    "## Section 2, Part a: Regression Intro: Transforming Target "
   ]
  },
  {
   "cell_type": "markdown",
   "id": "cf275467-4b18-4689-887e-5ee515807276",
   "metadata": {},
   "source": [
    "## Learning objectives\n",
    "\n",
    "By the end of this lesson, you will be able to:\n",
    "\n",
    "* Apply transformations to make target variable more normally distributed for regression\n",
    "* Apply inverse transformations to be able to use these in a regression context"
   ]
  },
  {
   "cell_type": "code",
   "execution_count": 1,
   "id": "51b6a1b5-6cf8-4a30-96e8-2402ef53277b",
   "metadata": {},
   "outputs": [],
   "source": [
    "# Disable warnings in Jupyter Notebook\n",
    "import warnings\n",
    "warnings.simplefilter(\"ignore\")"
   ]
  },
  {
   "cell_type": "code",
   "execution_count": 2,
   "id": "64396417-21cd-4b0c-adc3-e571b5e14687",
   "metadata": {},
   "outputs": [],
   "source": [
    "# Import Block\n",
    "import matplotlib.pyplot as plt\n",
    "import numpy as np\n",
    "import pandas as pd\n",
    "import seaborn as sns\n",
    "\n",
    "from scipy.stats import mstats, boxcox\n",
    "from scipy.special import inv_boxcox\n",
    "from sklearn.datasets import load_boston\n",
    "\n",
    "# Initial Configs\n",
    "%matplotlib inline\n",
    "sns.set_style()"
   ]
  },
  {
   "cell_type": "markdown",
   "id": "fc1c82d3-af03-48dd-b76b-1656058f8b4c",
   "metadata": {},
   "source": [
    "### Loading in Boston Data\n",
    "\n",
    "**Note:** See `helper.py` file to see how boston data is read in from SciKit Learn."
   ]
  },
  {
   "cell_type": "code",
   "execution_count": 3,
   "id": "04caf9f4-61e1-4321-b2c7-536c2ca931d0",
   "metadata": {},
   "outputs": [],
   "source": [
    "# Load in and groom the Boston Data, custom helper python be damned.\n",
    "boston = load_boston()\n",
    "\n",
    "data = boston.data\n",
    "target = boston.target\n",
    "target = target.reshape(target.shape[0], -1)\n",
    "names = boston.feature_names\n",
    "\n",
    "data_all = np.concatenate([data, target], axis=1)\n",
    "names_all = np.concatenate([names, np.array(['MEDV'])], axis=0)\n",
    "\n",
    "boston_data = pd.DataFrame(data=data_all, columns=names_all)\n",
    "# boston_data.head(15)"
   ]
  },
  {
   "cell_type": "markdown",
   "id": "1fa5847c-b5d1-4d0d-9bab-443396ed0b33",
   "metadata": {},
   "source": [
    "### Determining Normality\n",
    "\n",
    "Making our target variable normally distributed often will lead to better results\n",
    "\n",
    "If our target is not normally distributed, we can apply a transformation to it and then fit our regression to predict the transformed values.\n",
    "\n",
    "How can we tell if our target is normally distributed? There are two ways:\n",
    "\n",
    "* Visually\n",
    "* Using a statistical test"
   ]
  },
  {
   "cell_type": "markdown",
   "id": "c99c37b9-67c8-456a-9bf1-e4102fe91acb",
   "metadata": {},
   "source": [
    "#### Visually\n",
    "\n",
    "Plotting a histogram:"
   ]
  },
  {
   "cell_type": "code",
   "execution_count": 4,
   "id": "a0e720ea-77c9-4db1-9bcb-8251ee71270e",
   "metadata": {},
   "outputs": [
    {
     "data": {
      "image/png": "[encoded data removed]",
      "text/plain": [
       "<Figure size 432x288 with 1 Axes>"
      ]
     },
     "metadata": {
      "needs_background": "light"
     },
     "output_type": "display_data"
    }
   ],
   "source": [
    "sns.histplot(x='MEDV', data=boston_data).set(title='Boston MEDV');"
   ]
  },
  {
   "cell_type": "markdown",
   "id": "0905a41f-e4ed-4be4-93df-ef63b804e2a7",
   "metadata": {},
   "source": [
    "This does not look normal due to that right tail. Let's try to verify statistically."
   ]
  },
  {
   "cell_type": "markdown",
   "id": "107fe5ba-3c95-4331-b5da-dda67ec21b8b",
   "metadata": {},
   "source": [
    "#### Using a Statistical Test\n",
    "\n",
    "Without getting into Bayesian vs. frequentist debates, for the purposes of this lesson, the following will suffice:\n",
    "\n",
    "* This is a statistical test that tests whether a distribution is normally distributed or not. It isn't perfect, but suffice it to say: \n",
    "    * This test outputs a \"p-value\". The _higher_ this p-value is the _closer_ the distribution is to normal.\n",
    "    * Frequentist statisticians would say that you accept that the distribution is normal (more specifically: fail to reject the null hypothesis that it is normal) if p > 0.05."
   ]
  },
  {
   "cell_type": "code",
   "execution_count": 5,
   "id": "c6b12af4-a30a-4077-974a-38e1bde09832",
   "metadata": {},
   "outputs": [
    {
     "data": {
      "text/plain": [
       "NormaltestResult(statistic=90.9746873700967, pvalue=1.7583188871696095e-20)"
      ]
     },
     "execution_count": 5,
     "metadata": {},
     "output_type": "execute_result"
    }
   ],
   "source": [
    "mstats.normaltest(boston_data.MEDV.values)"
   ]
  },
  {
   "cell_type": "markdown",
   "id": "231cc41b-5dca-4bad-81a8-8b8e4dfd7c95",
   "metadata": {},
   "source": [
    "This p-value is _extremely_ low. Our y variable we've been dealing with this whole time was not normally distributed!\n",
    "\n",
    "Linear Regression assumes a normally distributed residuals which can be aided by transforming y variable. Let's try some common transformations to try and get y to be normally distributed: \n",
    "\n",
    "* Log\n",
    "* Square root\n",
    "* Box cox"
   ]
  },
  {
   "cell_type": "markdown",
   "id": "630b3ddd-3a89-489f-8f04-99ca2e3af2d7",
   "metadata": {},
   "source": [
    "### Testing Distributions\n",
    "\n",
    "#### Log\n",
    "\n",
    "The log transform can transform data that is significantly skewed right to be more normally distributed:"
   ]
  },
  {
   "cell_type": "code",
   "execution_count": 6,
   "id": "1a406d1f-edfc-4c72-98d0-6c974e356eac",
   "metadata": {},
   "outputs": [
    {
     "data": {
      "image/png": "[encoded data removed]",
      "text/plain": [
       "<Figure size 432x288 with 1 Axes>"
      ]
     },
     "metadata": {
      "needs_background": "light"
     },
     "output_type": "display_data"
    },
    {
     "data": {
      "image/png": "[encoded data removed]",
      "text/plain": [
       "<Figure size 432x288 with 1 Axes>"
      ]
     },
     "metadata": {
      "needs_background": "light"
     },
     "output_type": "display_data"
    }
   ],
   "source": [
    "log_medv = np.log(boston_data.MEDV)\n",
    "\n",
    "sns.histplot(x='MEDV', data=boston_data).set(title='Boston MEDV');\n",
    "plt.figure()\n",
    "sns.histplot(data=log_medv).set(title='log(Boston MEDV)');"
   ]
  },
  {
   "cell_type": "code",
   "execution_count": 7,
   "id": "a8fb3e9e-26d3-4b5e-9e43-81a8551087c5",
   "metadata": {},
   "outputs": [
    {
     "data": {
      "text/plain": [
       "NormaltestResult(statistic=90.9746873700967, pvalue=1.7583188871696095e-20)"
      ]
     },
     "execution_count": 7,
     "metadata": {},
     "output_type": "execute_result"
    }
   ],
   "source": [
    "mstats.normaltest(boston_data.MEDV.values)"
   ]
  },
  {
   "cell_type": "markdown",
   "id": "713d16c6-2584-4a96-aff0-ac0197006235",
   "metadata": {},
   "source": [
    "Conclusion: closer, but still not normal."
   ]
  },
  {
   "cell_type": "markdown",
   "id": "39473a6f-e600-476f-beee-be4f045467c9",
   "metadata": {},
   "source": [
    "#### Square Root \n",
    "\n",
    "The square root transformation is another transformation that can transform non-normally distributed data into normally distributed data:"
   ]
  },
  {
   "cell_type": "code",
   "execution_count": 8,
   "id": "ecb29edf-9557-475a-b1ee-5e284b8ad22a",
   "metadata": {},
   "outputs": [
    {
     "data": {
      "image/png": "[encoded data removed]",
      "text/plain": [
       "<Figure size 432x288 with 1 Axes>"
      ]
     },
     "metadata": {
      "needs_background": "light"
     },
     "output_type": "display_data"
    },
    {
     "data": {
      "image/png": "[encoded data removed]",
      "text/plain": [
       "<Figure size 432x288 with 1 Axes>"
      ]
     },
     "metadata": {
      "needs_background": "light"
     },
     "output_type": "display_data"
    }
   ],
   "source": [
    "sqrt_medv = np.sqrt(boston_data.MEDV)\n",
    "\n",
    "sns.histplot(x='MEDV', data=boston_data).set(title='Boston MEDV');\n",
    "plt.figure()\n",
    "sns.histplot(data=sqrt_medv).set(title='sqrt(Boston MEDV)');"
   ]
  },
  {
   "cell_type": "code",
   "execution_count": 9,
   "id": "cbede03c-f51d-4010-a54e-434430fdea38",
   "metadata": {},
   "outputs": [
    {
     "data": {
      "text/plain": [
       "NormaltestResult(statistic=20.487090826863067, pvalue=3.558645701429252e-05)"
      ]
     },
     "execution_count": 9,
     "metadata": {},
     "output_type": "execute_result"
    }
   ],
   "source": [
    "mstats.normaltest(sqrt_medv)"
   ]
  },
  {
   "cell_type": "markdown",
   "id": "633dbdc7-ffed-41ca-b446-e4eea11b36a5",
   "metadata": {},
   "source": [
    "This p-value is still rather low. This fit isn't the best possible fit."
   ]
  },
  {
   "cell_type": "markdown",
   "id": "52ec4ce2-341e-4c85-bd03-de1ab383a8b6",
   "metadata": {},
   "source": [
    "#### Box Cox\n",
    "The box cox transformation is a parametrized transformation that tries to get distributions \"as close to a normal distribution as possible\".\n",
    "\n",
    "It is defined as:\n",
    "\n",
    "$$ \\text{boxcox}(y_i) = \\frac{y_i^{\\lambda} - 1}{\\lambda} $$\n",
    "\n",
    "You can think of as a generalization of the square root function: the square root function uses the exponent of 0.5, but box cox lets its exponent vary so it can find the best one."
   ]
  },
  {
   "cell_type": "code",
   "execution_count": 10,
   "id": "a0797e48-4568-42c9-a485-649897e2307e",
   "metadata": {},
   "outputs": [
    {
     "name": "stdout",
     "output_type": "stream",
     "text": [
      "The lambda value of the boxcox fit is: 0.21662\n",
      "\n",
      "\n"
     ]
    },
    {
     "data": {
      "image/png": "[encoded data removed]",
      "text/plain": [
       "<Figure size 432x288 with 1 Axes>"
      ]
     },
     "metadata": {
      "needs_background": "light"
     },
     "output_type": "display_data"
    },
    {
     "data": {
      "image/png": "[encoded data removed]",
      "text/plain": [
       "<Figure size 432x288 with 1 Axes>"
      ]
     },
     "metadata": {
      "needs_background": "light"
     },
     "output_type": "display_data"
    }
   ],
   "source": [
    "boxcox_medv, lam = boxcox(boston_data.MEDV)\n",
    "\n",
    "print(f\"The lambda value of the boxcox fit is: {lam:.5f}\\n\\n\")\n",
    "\n",
    "sns.histplot(x='MEDV', data=boston_data).set(title='Boston MEDV');\n",
    "plt.figure()\n",
    "sns.histplot(data=boxcox_medv).set(title='boxcox(Boston MEDV)');"
   ]
  },
  {
   "cell_type": "code",
   "execution_count": 11,
   "id": "187ed21b-cc05-4db2-8c96-dbdb5f53dc30",
   "metadata": {},
   "outputs": [
    {
     "data": {
      "text/plain": [
       "NormaltestResult(statistic=4.513528775533045, pvalue=0.1046886692817602)"
      ]
     },
     "execution_count": 11,
     "metadata": {},
     "output_type": "execute_result"
    }
   ],
   "source": [
    "mstats.normaltest(boxcox_medv)"
   ]
  },
  {
   "cell_type": "markdown",
   "id": "10035da9-0e57-4b29-96dd-0397f6dd854f",
   "metadata": {},
   "source": [
    "Significantly more normally distributed (according to p value) than the other two distributions - above 0.05, even!\n",
    "\n",
    "Now that we have a normally distributed y-variable, let's try a regression!"
   ]
  },
  {
   "cell_type": "markdown",
   "id": "c9d5808f-f0b0-4d13-8675-1b1f2b068138",
   "metadata": {},
   "source": [
    "### Regression"
   ]
  },
  {
   "cell_type": "code",
   "execution_count": 12,
   "id": "36fb9bc1-68e7-440a-a9ae-b29e4fb772df",
   "metadata": {},
   "outputs": [],
   "source": [
    "from sklearn.linear_model import LinearRegression\n",
    "from sklearn.metrics import r2_score\n",
    "from sklearn.model_selection import train_test_split\n",
    "from sklearn.preprocessing import StandardScaler, PolynomialFeatures"
   ]
  },
  {
   "cell_type": "markdown",
   "id": "9a8ce121-45a1-47a3-9a82-a84d1213fac5",
   "metadata": {},
   "source": [
    "#### Create X and Y"
   ]
  },
  {
   "cell_type": "code",
   "execution_count": 13,
   "id": "e2bab91e-490e-4277-9fdf-ca1c14cfea39",
   "metadata": {},
   "outputs": [],
   "source": [
    "y_col = \"MEDV\"\n",
    "\n",
    "X = boston_data.drop(y_col, axis=1)\n",
    "y = boston_data[y_col]"
   ]
  },
  {
   "cell_type": "markdown",
   "id": "74da78ad-5c3d-4197-8965-8c8e9a51fec4",
   "metadata": {},
   "source": [
    "#### Create Polynomial Features"
   ]
  },
  {
   "cell_type": "code",
   "execution_count": 14,
   "id": "c09d827d-9e88-4a68-8261-57281e104221",
   "metadata": {},
   "outputs": [],
   "source": [
    "pf = PolynomialFeatures(degree=2, include_bias=False)\n",
    "X_pf = pf.fit_transform(X)"
   ]
  },
  {
   "cell_type": "markdown",
   "id": "8cc4195f-e8f6-4512-bf84-c0b4a3e5d0d2",
   "metadata": {},
   "source": [
    "#### Train Test Split"
   ]
  },
  {
   "cell_type": "code",
   "execution_count": 15,
   "id": "a3148497-56f5-484c-ac98-a05b0485a0aa",
   "metadata": {},
   "outputs": [],
   "source": [
    "X_train, X_test, y_train, y_test = train_test_split(X_pf, y, test_size=0.3, random_state=72018)"
   ]
  },
  {
   "cell_type": "markdown",
   "id": "75704f98-1c52-4dcc-a440-246569fdccd7",
   "metadata": {},
   "source": [
    "Fit `StandardScaler` on `X_train` as before"
   ]
  },
  {
   "cell_type": "code",
   "execution_count": 16,
   "id": "02d2bdb2-ab80-4b03-b820-645f0e39cfe6",
   "metadata": {},
   "outputs": [],
   "source": [
    "s = StandardScaler()\n",
    "X_train_s = s.fit_transform(X_train)"
   ]
  },
  {
   "cell_type": "code",
   "execution_count": 17,
   "id": "20557dff-d731-49b7-ae48-96225148d8a9",
   "metadata": {},
   "outputs": [],
   "source": [
    "boxcox_y_train, lam_y_train = boxcox(y_train)"
   ]
  },
  {
   "cell_type": "markdown",
   "id": "fdd3dce7-d173-4a84-8639-e990c7c44dc4",
   "metadata": {},
   "source": [
    "As before, we'll now:\n",
    "\n",
    "1. Fit regression\n",
    "1. Transform testing data\n",
    "1. Predict on testing data"
   ]
  },
  {
   "cell_type": "code",
   "execution_count": 18,
   "id": "0035ddc7-7913-40f8-9704-38874491c1af",
   "metadata": {},
   "outputs": [
    {
     "data": {
      "text/plain": [
       "(354,)"
      ]
     },
     "execution_count": 18,
     "metadata": {},
     "output_type": "execute_result"
    }
   ],
   "source": [
    "boxcox_y_train.shape"
   ]
  },
  {
   "cell_type": "code",
   "execution_count": 19,
   "id": "80ace99e-7ae8-4d49-92cd-2bac8d5c2cb3",
   "metadata": {},
   "outputs": [],
   "source": [
    "lr = LinearRegression()\n",
    "lr.fit(X_train_s, boxcox_y_train)\n",
    "\n",
    "X_test_s = s.transform(X_test)\n",
    "y_pred_bc = lr.predict(X_test_s)"
   ]
  },
  {
   "cell_type": "markdown",
   "id": "bef5e785-7243-449b-ae7c-8febb4e96286",
   "metadata": {},
   "source": [
    "### Discussion\n",
    "\n",
    "* Are we done?\n",
    "* What did we predict?\n",
    "* How would you interpret these predictions?"
   ]
  },
  {
   "cell_type": "markdown",
   "id": "31220215-6176-4aee-a8ad-08e327845c31",
   "metadata": {},
   "source": [
    "#### Inverse transform\n",
    "\n",
    "Every transformation has an inverse transformation. The inverse transformation of $f(x) = \\sqrt{x}$ is $f^{-1}(x) = x^2$, for example. Box cox has an inverse transformation as well: notice that we have to pass in the lambda value that we found from before:"
   ]
  },
  {
   "cell_type": "code",
   "execution_count": 20,
   "id": "7ec4393a-b422-424f-ab53-9dc2aca6a81c",
   "metadata": {},
   "outputs": [],
   "source": [
    "for _, (inv, orig) in enumerate(zip(inv_boxcox(boxcox_medv, lam), boston_data['MEDV'].values)):\n",
    "    if round(orig, 1) != round(inv, 1):\n",
    "        print(f'{orig} != {inv}')"
   ]
  },
  {
   "cell_type": "markdown",
   "id": "3b73c07e-530b-417b-9135-89b7836d5c86",
   "metadata": {},
   "source": [
    "## Exercise:\n",
    "\n",
    "1. Apply the appropriate inverse transformation to `y_pred_bc`.\n",
    "1. Calculate the $R^2$ using the result of this inverse transformation and `y_test`.  \n",
    "\n",
    "**Hint:** Should be two lines of code."
   ]
  },
  {
   "cell_type": "code",
   "execution_count": 21,
   "id": "a087cb65-6341-48fd-9b88-da61dee250c9",
   "metadata": {},
   "outputs": [
    {
     "data": {
      "text/plain": [
       "0.879400185040486"
      ]
     },
     "execution_count": 21,
     "metadata": {},
     "output_type": "execute_result"
    }
   ],
   "source": [
    "y_pred_tran = inv_boxcox(y_pred_bc, lam_y_train)\n",
    "r2_score(y_pred_tran, y_test)"
   ]
  },
  {
   "cell_type": "markdown",
   "id": "8fd3e8fd-12ce-4e0b-9631-dd2380ddaa98",
   "metadata": {},
   "source": [
    "Determine the R^2 of a LinearRegression without the box cox transformation. Is it higher or lower?"
   ]
  },
  {
   "cell_type": "code",
   "execution_count": 22,
   "id": "48f8b99e-e640-4d27-9981-06db75bade8f",
   "metadata": {},
   "outputs": [
    {
     "data": {
      "text/plain": [
       "0.8555202098064152"
      ]
     },
     "execution_count": 22,
     "metadata": {},
     "output_type": "execute_result"
    }
   ],
   "source": [
    "lr = LinearRegression()\n",
    "lr.fit(X_train_s, y_train)\n",
    "\n",
    "lr_pred = lr.predict(X_test_s)\n",
    "r2_score(lr_pred, y_test)"
   ]
  },
  {
   "cell_type": "markdown",
   "id": "3a12316a-a3fb-4d92-94ab-8d307e6001ca",
   "metadata": {},
   "source": [
    "The boxcox R^2 score is greater than the standard linear regression R^2 score. This means that the boxcox transformation results in a better fit."
   ]
  }
 ],
 "metadata": {
  "kernelspec": {
   "display_name": "Python 3 (ipykernel)",
   "language": "python",
   "name": "python3"
  },
  "language_info": {
   "codemirror_mode": {
    "name": "ipython",
    "version": 3
   },
   "file_extension": ".py",
   "mimetype": "text/x-python",
   "name": "python",
   "nbconvert_exporter": "python",
   "pygments_lexer": "ipython3",
   "version": "3.10.3"
  }
 },
 "nbformat": 4,
 "nbformat_minor": 5
}
