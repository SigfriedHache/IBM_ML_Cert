{
 "cells": [
  {
   "cell_type": "markdown",
   "metadata": {},
   "source": [
    "# Machine Learning Foundation\n",
    "\n",
    "## Section 1, Part b: Reading Data Lab"
   ]
  },
  {
   "cell_type": "code",
   "execution_count": 3,
   "metadata": {
    "tags": []
   },
   "outputs": [],
   "source": [
    "# Imports\n",
    "import sqlite3 as sq3\n",
    "import pandas.io.sql as pds\n",
    "import pandas as pd"
   ]
  },
  {
   "cell_type": "markdown",
   "metadata": {},
   "source": [
    "## Lab Exercise: Reading in database files\n",
    "\n",
    " - Create a variable, `path`, containing the path to the `baseball.db` contained in `resources/`\n",
    " - Create a connection, `con`, that is connected to database at `path`\n",
    " - Create a variable, `query`, containing a SQL query which reads in all data from the `allstarfull` table\n",
    " - Create a variable, `observations`, by using pandas' [read_sql](https://pandas.pydata.org/pandas-docs/stable/reference/api/pandas.read_sql.html)\n",
    "\n",
    "### Optional\n",
    " - Create a variable, `tables`, which reads in all data from the table `sqlite_master`\n",
    " - Pretend that you were interesting in creating a new baseball hall of fame. Join and analyze the tables to evaluate the top 3 all time best baseball players."
   ]
  },
  {
   "cell_type": "code",
   "execution_count": 4,
   "metadata": {},
   "outputs": [
    {
     "data": {
      "text/html": [
       "<div>\n",
       "<style scoped>\n",
       "    .dataframe tbody tr th:only-of-type {\n",
       "        vertical-align: middle;\n",
       "    }\n",
       "\n",
       "    .dataframe tbody tr th {\n",
       "        vertical-align: top;\n",
       "    }\n",
       "\n",
       "    .dataframe thead th {\n",
       "        text-align: right;\n",
       "    }\n",
       "</style>\n",
       "<table border=\"1\" class=\"dataframe\">\n",
       "  <thead>\n",
       "    <tr style=\"text-align: right;\">\n",
       "      <th></th>\n",
       "      <th>playerID</th>\n",
       "      <th>num_games_played</th>\n",
       "      <th>avg_starting_position</th>\n",
       "    </tr>\n",
       "  </thead>\n",
       "  <tbody>\n",
       "    <tr>\n",
       "      <th>0</th>\n",
       "      <td>musiast01</td>\n",
       "      <td>24.0</td>\n",
       "      <td>6.357143</td>\n",
       "    </tr>\n",
       "    <tr>\n",
       "      <th>1</th>\n",
       "      <td>mayswi01</td>\n",
       "      <td>24.0</td>\n",
       "      <td>8.000000</td>\n",
       "    </tr>\n",
       "    <tr>\n",
       "      <th>2</th>\n",
       "      <td>aaronha01</td>\n",
       "      <td>24.0</td>\n",
       "      <td>8.470588</td>\n",
       "    </tr>\n",
       "  </tbody>\n",
       "</table>\n",
       "</div>"
      ],
      "text/plain": [
       "    playerID  num_games_played  avg_starting_position\n",
       "0  musiast01              24.0               6.357143\n",
       "1   mayswi01              24.0               8.000000\n",
       "2  aaronha01              24.0               8.470588"
      ]
     },
     "metadata": {},
     "output_type": "display_data"
    }
   ],
   "source": [
    "### Sigfried's Solution\n",
    "# Create a variable containing the path to the `baseball.db` contained in `data/`\n",
    "path = 'data/baseball.db'\n",
    "\n",
    "# Create a connection that is connected to the database\n",
    "db_connection = sq3.Connection(path)\n",
    "\n",
    "# Create a SQL query which reads in all data from the allstarfull table\n",
    "query = 'SELECT * FROM allstarfull;'\n",
    "\n",
    "allstar_observations = pd.read_sql(query, db_connection)\n",
    "# display(allstar_observations)\n",
    "\n",
    "# Read in all the data from the table sqlite_master\n",
    "query = 'SELECT * FROM sqlite_master;'\n",
    "\n",
    "tables = pd.read_sql(query, db_connection)\n",
    "# display(tables)\n",
    "\n",
    "# Pretend that you were interesting in creating a new baseball hall of fame.\n",
    "# print('\\nI am pretending.\\n')\n",
    "\n",
    "# Join and analyze the tables to evaluate the top 3 all time best baseball players.\n",
    "query = ('SELECT playerID, sum(GP) AS num_games_played, AVG(startingPos) AS avg_starting_position '\n",
    "         'FROM allstarfull '\n",
    "         'GROUP BY playerID '\n",
    "         'ORDER BY num_games_played DESC, avg_starting_position ASC '\n",
    "         'LIMIT 3')\n",
    "\n",
    "best_players = pd.read_sql(query, db_connection)\n",
    "display(best_players)"
   ]
  },
  {
   "cell_type": "markdown",
   "metadata": {},
   "source": [
    "---\n",
    "### Machine Learning Foundation (C) 2020 IBM Corporation"
   ]
  }
 ],
 "metadata": {
  "kernelspec": {
   "display_name": "Python 3 (ipykernel)",
   "language": "python",
   "name": "python3"
  },
  "language_info": {
   "codemirror_mode": {
    "name": "ipython",
    "version": 3
   },
   "file_extension": ".py",
   "mimetype": "text/x-python",
   "name": "python",
   "nbconvert_exporter": "python",
   "pygments_lexer": "ipython3",
   "version": "3.10.3"
  }
 },
 "nbformat": 4,
 "nbformat_minor": 4
}
